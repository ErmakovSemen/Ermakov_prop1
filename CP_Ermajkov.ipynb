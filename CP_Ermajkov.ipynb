{
  "nbformat": 4,
  "nbformat_minor": 0,
  "metadata": {
    "colab": {
      "provenance": [],
      "authorship_tag": "ABX9TyPrY3vZ0qNsJ9E3MOzj4R36",
      "include_colab_link": true
    },
    "kernelspec": {
      "name": "python3",
      "display_name": "Python 3"
    },
    "language_info": {
      "name": "python"
    }
  },
  "cells": [
    {
      "cell_type": "markdown",
      "metadata": {
        "id": "view-in-github",
        "colab_type": "text"
      },
      "source": [
        "<a href=\"https://colab.research.google.com/github/ErmakovSemen/Ermakov_prop1/blob/main/CP_Ermajkov.ipynb\" target=\"_parent\"><img src=\"https://colab.research.google.com/assets/colab-badge.svg\" alt=\"Open In Colab\"/></a>"
      ]
    },
    {
      "cell_type": "code",
      "execution_count": 105,
      "metadata": {
        "id": "9_GVmSAzyuvy"
      },
      "outputs": [],
      "source": [
        "import numpy as np\n",
        "import matplotlib.pyplot as plt\n",
        "import pandas as pd\n",
        "import holoviews as hv\n",
        "from tqdm import trange, tqdm\n",
        "from numba import njit, prange, jit\n",
        "import datetime\n",
        "import time\n",
        "from typing import Sequence\n",
        "\n",
        "\n",
        "# %pip install ipython-autotime\n",
        "# %load_ext autotime\n"
      ]
    },
    {
      "cell_type": "code",
      "source": [
        "@njit\n",
        "def int2array(x: int, L: int) -> np.ndarray:\n",
        "    \"\"\"\n",
        "    The int 2 array function converts the number x into a uint8 array.\n",
        "    Arguments :\n",
        "        x (int): The number to be converted.\n",
        "        L (int): The length of the int8 array.\n",
        "    Returns:\n",
        "        res (np.ndarray): A uint8 array with the converted number x.\n",
        "    \"\"\"\n",
        "    res = np.empty(L, dtype=np.int8)\n",
        "    for i in prange(L):\n",
        "        res[i] = (x & 1) * 2 - 1\n",
        "        x = x >> 1\n",
        "    return res"
      ],
      "metadata": {
        "id": "LcACP499zzIi"
      },
      "execution_count": 3,
      "outputs": []
    },
    {
      "cell_type": "code",
      "source": [
        "@njit(parallel = True)\n",
        "def create_Matrix(y: int , Ly: int, Lx: int):\n",
        "    \"\"\"\n",
        "    Run int2array with passed args (y, Lx*Ly)\n",
        "    Arguments :\n",
        "        x (int): The number to be converted.\n",
        "        Lx (int): One of dims of spins matrix.\n",
        "        Ly (int): One of dims of spins matrix.\n",
        "    Returns:\n",
        "        res (np.ndarray): A uint8 array with the converted number x.\n",
        "    \"\"\"\n",
        "    return int2array(y, Lx*Ly)"
      ],
      "metadata": {
        "id": "uYi3wwFjIpSz"
      },
      "execution_count": 4,
      "outputs": []
    },
    {
      "cell_type": "code",
      "source": [
        "@njit\n",
        "def calculate_energy(sigma : np.ndarray): # Энергия одной матрицы\n",
        "    \"\"\"\n",
        "    The energy calculation function increases the efficiency of a single matrix.\n",
        "    Arguments:\n",
        "        sigma (np.ndarray): A matrix for calculating regression.\n",
        "    Returns:\n",
        "        float: Calculated energy of the matrix.\n",
        "    \"\"\"\n",
        "    Ly, Lx = sigma.shape\n",
        "    total_energy = 0\n",
        "\n",
        "    for i in prange(Lx):\n",
        "        for j in prange(Ly):\n",
        "            total_energy += - sigma[j, i] * (\n",
        "                sigma[(j + 1) % Ly, i] + sigma[j, (i + 1) % Lx]\n",
        "            )\n",
        "\n",
        "    return total_energy #/ (Lx * Ly)\n"
      ],
      "metadata": {
        "id": "I-yv2UwTZTf8"
      },
      "execution_count": 89,
      "outputs": []
    },
    {
      "cell_type": "code",
      "source": [
        "@njit(parallel = True)\n",
        "def mean_energy_proto(Ly:int ,Lx: int, kT: float, spins : np.ndarray, spins_num) -> float: # средня энергия по Lx, Ly, kT\n",
        "    \"\"\"\n",
        "    The mean_energy_proto function determines the calculation of the average energy for the specified sizes Lx, Ly, temperature kT and the spin array spins.\n",
        "     E_mean - the average energy,\n",
        "     Z - normalizing factor. For each spin from the spins array, the calculate_energy function calculates the energy E and then applies the np.exp function to calculate the exponent e.\n",
        "     Then E_mean is summed with the product of E and e, and Z is summed with e.\n",
        "     At the end, the function returns E_mean / Z.\n",
        "     Arguments:\n",
        "        Ly (int) : one of dims of spins matrix\n",
        "        Lx (int) : one of dims of spins matrix\n",
        "        kT (float) : current temerature\n",
        "        spins (np.ndarray) : all possible spins variations\n",
        "    \"\"\"\n",
        "    spin = int2array(spins_num, Lx*Ly)\n",
        "    E_mean = 0\n",
        "    Z = 0\n",
        "\n",
        "\n",
        "    E = calculate_energy(spin.reshape(Ly,Lx))\n",
        "    e = np.exp(-E/kT)\n",
        "    E_mean += E * e\n",
        "    Z += e\n",
        "\n",
        "    return E_mean/Z"
      ],
      "metadata": {
        "id": "NWYCq0BfivQC"
      },
      "execution_count": 90,
      "outputs": []
    },
    {
      "cell_type": "code",
      "source": [
        "@njit(parallel = True)\n",
        "def run_culc(Ly : int, Lx : int , kT : float) -> float:\n",
        "    \"\"\"\n",
        "    Calculate the mean for a given lattice size and temperature.\n",
        "    Args:\n",
        "        Ly (int): one of dims of spins matrix\n",
        "        Lx (int): one of dims of spins matrix\n",
        "        kT (float): The product of Boltzmann's constant and temperature.\n",
        "    Returns:\n",
        "        float: The mean calculated energy .\n",
        "    \"\"\"\n",
        "\n",
        "    # spins = np.empty(2**(Lx*Ly))\n",
        "    # spins = []\n",
        "    cum_sum_energy = 0\n",
        "    Z = 0\n",
        "\n",
        "    for y in prange(2**(Lx*Ly)):\n",
        "        # spins.append(int2array(y, Lx*Ly))\n",
        "        arr  = int2array(y, Lx*Ly).reshape(Lx,Ly)\n",
        "        E = calculate_energy(arr)\n",
        "        e = np.exp(-E/kT)\n",
        "        cum_sum_energy += e*E\n",
        "        Z += e\n",
        "\n",
        "    return cum_sum_energy/Z/(Lx*Ly)"
      ],
      "metadata": {
        "id": "jLvZLhWEfvfX"
      },
      "execution_count": 97,
      "outputs": []
    },
    {
      "cell_type": "code",
      "source": [
        "def visualisation(data):\n",
        "    \"\"\"\n",
        "    Function for data visualization. (Gets [loc_diffusion_map, loc_temp_map, loc_points_data])\n",
        "    Arguments: data - input data for visualization.\n",
        "    Returns: None\n",
        "    \"\"\"\n",
        "\n",
        "    plt.pcolormesh(data)\n",
        "    plt.colorbar()\n",
        "    plt.xlabel(\"Lx\")\n",
        "    plt.ylabel(\"kT\")\n",
        "    plt.show()\n",
        "    return"
      ],
      "metadata": {
        "id": "rbChWdVmt4Cl"
      },
      "execution_count": 103,
      "outputs": []
    },
    {
      "cell_type": "code",
      "source": [],
      "metadata": {
        "id": "4d0fTf2anu5e"
      },
      "execution_count": 98,
      "outputs": []
    },
    {
      "cell_type": "code",
      "source": [
        "N = 6\n",
        "before = time.time()\n",
        "Lx_lst = range(2,N)\n",
        "kt_lst = range(10,51,1)\n",
        "ans = np.zeros((len(kt_lst),len(Lx_lst)))\n",
        "\n",
        "for x, Lx in enumerate(Lx_lst):\n",
        "    for y,kT in enumerate(kt_lst):\n",
        "        ans[y][x] = run_culc(Lx = Lx, Ly = 4, kT = kT/10)\n",
        "after = time.time()\n",
        "\n",
        "        # print(run_culc(Lx = Lx, Ly = 4, kT = kT/10))\n",
        "print(f\"time : {after - before}\")"
      ],
      "metadata": {
        "colab": {
          "base_uri": "https://localhost:8080/"
        },
        "id": "9L8FmP8nHPzz",
        "outputId": "cab6791e-17bb-47da-b07a-459a15be21be"
      },
      "execution_count": 113,
      "outputs": [
        {
          "output_type": "stream",
          "name": "stdout",
          "text": [
            "time : 12.146650552749634\n"
          ]
        }
      ]
    },
    {
      "cell_type": "code",
      "source": [
        "for Lx in Lx_lst:\n",
        "    print(f\"Lx : {Lx}\\n\" ,ans[:,Lx - 2])"
      ],
      "metadata": {
        "colab": {
          "base_uri": "https://localhost:8080/"
        },
        "id": "7FmRE-d3toRg",
        "outputId": "97114733-09f9-4220-bc4f-a9e167d7283d"
      },
      "execution_count": 119,
      "outputs": [
        {
          "output_type": "stream",
          "name": "stdout",
          "text": [
            "Lx : 2\n",
            " [-1.99509474 -1.98967862 -1.98074878 -1.96731117 -1.94851445 -1.92375828\n",
            " -1.89277291 -1.85565639 -1.81286316 -1.76514762 -1.71347563 -1.65892227\n",
            " -1.60257405 -1.5454491  -1.48844224 -1.43229537 -1.3775895  -1.3247523\n",
            " -1.27407538 -1.22573609 -1.17982015 -1.13634286 -1.09526756 -1.05652101\n",
            " -1.02000562 -0.98560898 -0.9532109  -0.92268862 -0.89392045 -0.86678827\n",
            " -0.84117913 -0.8169862  -0.79410926 -0.77245486 -0.75193626 -0.73247322\n",
            " -0.71399168 -0.69642337 -0.67970548 -0.66378023 -0.64859447]\n",
            "Lx : 3\n",
            " [-1.99711779 -1.99383665 -1.98825271 -1.97949351 -1.96659182 -1.94853206\n",
            " -1.92432618 -1.89312223 -1.85433583 -1.80777902 -1.75375117 -1.69305981\n",
            " -1.62695673 -1.55700043 -1.48487836 -1.41223059 -1.34050963 -1.27089443\n",
            " -1.20425882 -1.14118312 -1.08199278 -1.02680913 -0.97560137 -0.92823315\n",
            " -0.88450084 -0.84416295 -0.80696158 -0.77263715 -0.7409381  -0.71162671\n",
            " -0.68448222 -0.65930219 -0.63590256 -0.61411702 -0.5937959  -0.57480491\n",
            " -0.55702372 -0.54034463 -0.52467121 -0.50991714 -0.49600503]\n",
            "Lx : 4\n",
            " [-1.99715844 -1.99396091 -1.98856632 -1.98016965 -1.96786355 -1.95064256\n",
            " -1.9274244  -1.89711215 -1.85871667 -1.81153907 -1.75538029 -1.69071311\n",
            " -1.61874282 -1.54131149 -1.46065977 -1.37911648 -1.29880759 -1.22145424\n",
            " -1.14828469 -1.0800446  -1.01706963 -0.95938399 -0.90679838 -0.85899291\n",
            " -0.8155803  -0.77615005 -0.74029707 -0.70763857 -0.67782287 -0.65053286\n",
            " -0.62548613 -0.60243323 -0.58115501 -0.56145948 -0.5431787  -0.52616582\n",
            " -0.5102923  -0.49544555 -0.48152673 -0.46844889 -0.45613537]\n",
            "Lx : 5\n",
            " [-1.99715893 -1.99396296 -1.98857263 -1.98018387 -1.96788363 -1.95063964\n",
            " -1.92729692 -1.89661121 -1.85735639 -1.80853133 -1.74965024 -1.68103752\n",
            " -1.60399878 -1.52075577 -1.43412763 -1.3470633  -1.26219309 -1.18153361\n",
            " -1.10638872 -1.03740747 -0.97472647 -0.918132   -0.86720255 -0.82141645\n",
            " -0.78022445 -0.74309384 -0.70953215 -0.67909749 -0.65140075 -0.62610332\n",
            " -0.60291264 -0.58157686 -0.56187952 -0.54363452 -0.52668165 -0.51088271\n",
            " -0.49611811 -0.48228409 -0.46929029 -0.45705774 -0.44551718]\n"
          ]
        }
      ]
    },
    {
      "cell_type": "code",
      "source": [
        "np.save(\"save\", ans)"
      ],
      "metadata": {
        "id": "gJZyRTDkl1yw"
      },
      "execution_count": 81,
      "outputs": []
    },
    {
      "cell_type": "code",
      "source": [
        "read = np.load(\"save.npy\")"
      ],
      "metadata": {
        "id": "DQpA_n8nZ7a5"
      },
      "execution_count": 82,
      "outputs": []
    },
    {
      "cell_type": "code",
      "source": [
        "visualisation(ans)"
      ],
      "metadata": {
        "colab": {
          "base_uri": "https://localhost:8080/",
          "height": 449
        },
        "id": "cY9yA0Wcsdol",
        "outputId": "2f93ca47-772b-4478-8109-68d1f0dcc8f2"
      },
      "execution_count": 104,
      "outputs": [
        {
          "output_type": "display_data",
          "data": {
            "text/plain": [
              "<Figure size 640x480 with 2 Axes>"
            ],
            "image/png": "[encoded data removed]"
          },
          "metadata": {}
        }
      ]
    },
    {
      "cell_type": "code",
      "source": [],
      "metadata": {
        "id": "HBh9SchbkVUs"
      },
      "execution_count": null,
      "outputs": []
    }
  ]
}