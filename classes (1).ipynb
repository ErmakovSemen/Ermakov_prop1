{
 "cells": [
  {
   "cell_type": "code",
   "execution_count": 1,
   "metadata": {},
   "outputs": [],
   "source": [
    "from sys import stdin\n",
    "class Matrix:\n",
    "    def __init__(self,A):\n",
    "        self.matrix = A\n",
    "    \n",
    "    def __add__(self,other):\n",
    "        result = self.matrix\n",
    "        for i in range(len(result[0])):\n",
    "            for j in range(len(result)):\n",
    "                result[i][j] += other.matrix[i][j]\n",
    "        return Matrix(result)\n",
    "    def __str__(self):\n",
    "        M = self.matrix\n",
    "        s = ''\n",
    "        for i in range(len(M[0])):\n",
    "            for j in range(len(M)):\n",
    "                s += str(M[i][j]) + ' '\n",
    "            s+='\\n'\n",
    "        return s\n",
    "    def size(self):\n",
    "        return (len(self.matrix)),(len(self.matrix[0]))\n",
    "#exec(stdin.read())\n",
    "m1 = Matrix([[1, 0, 0], [0, 1, 0], [0, 0, 1]])\n",
    "m2 = Matrix([[0, 1, 0], [20, 0, -1], [-1, -2, 0]])"
   ]
  },
  {
   "cell_type": "code",
   "execution_count": 2,
   "metadata": {},
   "outputs": [
    {
     "name": "stdout",
     "output_type": "stream",
     "text": [
      "1 1 0 \n",
      "20 1 -1 \n",
      "-1 -2 1 \n",
      "\n"
     ]
    }
   ],
   "source": [
    "print(m1+m2)"
   ]
  },
  {
   "cell_type": "code",
   "execution_count": null,
   "metadata": {},
   "outputs": [],
   "source": []
  },
  {
   "cell_type": "code",
   "execution_count": null,
   "metadata": {},
   "outputs": [],
   "source": []
  }
 ],
 "metadata": {
  "kernelspec": {
   "display_name": "Python 3",
   "language": "python",
   "name": "python3"
  },
  "language_info": {
   "codemirror_mode": {
    "name": "ipython",
    "version": 3
   },
   "file_extension": ".py",
   "mimetype": "text/x-python",
   "name": "python",
   "nbconvert_exporter": "python",
   "pygments_lexer": "ipython3",
   "version": "3.7.6"
  }
 },
 "nbformat": 4,
 "nbformat_minor": 4
}
